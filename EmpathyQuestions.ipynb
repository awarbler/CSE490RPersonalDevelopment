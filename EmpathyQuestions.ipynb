{
  "nbformat": 4,
  "nbformat_minor": 0,
  "metadata": {
    "colab": {
      "provenance": [],
      "authorship_tag": "ABX9TyM5XU/I8c5FuphPoHD0MQZQ",
      "include_colab_link": true
    },
    "kernelspec": {
      "name": "python3",
      "display_name": "Python 3"
    },
    "language_info": {
      "name": "python"
    }
  },
  "cells": [
    {
      "cell_type": "markdown",
      "metadata": {
        "id": "view-in-github",
        "colab_type": "text"
      },
      "source": [
        "<a href=\"https://colab.research.google.com/github/awarbler/CSE490RPersonalDevelopment/blob/W04Branch/EmpathyQuestions.ipynb\" target=\"_parent\"><img src=\"https://colab.research.google.com/assets/colab-badge.svg\" alt=\"Open In Colab\"/></a>"
      ]
    },
    {
      "cell_type": "markdown",
      "source": [
        "1. How frequently do you use online forums or community platforms for communication and collaboration?\n",
        "2. What are the main challenges you face when using existing community platforms or forums?\n",
        "3. How important is it for you to have easy access to create new forum categories or sections based on specific needs or interests?\n",
        "4. What features do you find essential in a sign-in process for online community platforms?\n",
        "5. How valuable do you consider a moderation system to maintain the quality and safety of community discussions?\n",
        "6. Would you find it beneficial to have specific criteria for posts in certain categories, such as a ride board, including details like car information, insurance status, and anonymous driver ratings?\n",
        "7. How important is it for you to customize the community board based on your specific location or community, rather than being restricted to a predefined area?\n",
        "8. Do you think having a built-in marketplace feature within the community board would enhance or clutter the main discussion area?\n",
        "9. How likely are you to report a post if you find it sketchy or inappropriate? What features would make the reporting process easier for you?\n",
        "10. Would you prefer to have the ability to upload photos to posts and forums to enhance communication and engagement?\n",
        "11. How important is it for you to see the owner and all members associated with a post or forum discussion?\n",
        "12. Would you find it useful to refer people to specific posts or forums within the community board? How often would you use this feature?\n",
        "13. Do you prefer having time, date, and location displayed on posts, especially when relevant to the discussion?\n",
        "14. How important is user security and privacy to you when using online community platforms?\n",
        "15. Would you like the option to send private messages to other community members for more personalized communication?\n",
        "16. How useful would it be for you to have location-based services integrated into the community board, such as determining your current location?\n",
        "17. Do you have any preferences between categorizing posts by location (e.g., state or highway) or other criteria?\n",
        "18. How important is it for you to have a robust search functionality to find specific posts or rides based on various criteria?\n",
        "19. Would you use a chat feature for direct communication between drivers and passengers? How essential is this feature to you?\n",
        "20. How likely are you to use a rating system for drivers and passengers to provide feedback and enhance community trust?\n",
        "21. How valuable would it be for you to have access to a history page to review past rides taken and given?\n",
        "22. Would you consider using a post feature for package pick-up services within the community board?\n",
        "23. How familiar are you with social media-style interfaces like Venmo, and would you prefer a similar interface for the Community Board app?\n"
      ],
      "metadata": {
        "id": "ujP58YMJ9RIW"
      }
    }
  ]
}